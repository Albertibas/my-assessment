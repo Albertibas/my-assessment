{
 "cells": [
  {
   "cell_type": "code",
   "execution_count": 7,
   "metadata": {},
   "outputs": [],
   "source": [
    "import os\n",
    "\n",
    "import pandas as pd\n",
    "import Python as py"
   ]
  },
  {
   "cell_type": "code",
   "execution_count": 10,
   "metadata": {},
   "outputs": [
    {
     "name": "stdout",
     "output_type": "stream",
     "text": [
      "       RepaymentID  LoanID  Month  ActualRepayment  LoanAmount  \\\n",
      "0            544.0       1      1          2399.54     52000.0   \n",
      "1           1313.0       1      2          2399.54     52000.0   \n",
      "2           2551.0       1      3          2399.54     52000.0   \n",
      "3           3636.0       1      4          2399.54     52000.0   \n",
      "4           4300.0       1      5          2399.54     52000.0   \n",
      "...            ...     ...    ...              ...         ...   \n",
      "11995       7973.0    1000      8          2768.70     60000.0   \n",
      "11996       8115.0    1000      9          2768.70     60000.0   \n",
      "11997       9867.0    1000     10          2768.70     60000.0   \n",
      "11998      10128.0    1000     11          2768.70     60000.0   \n",
      "11999      11719.0    1000     12          2768.70     60000.0   \n",
      "\n",
      "       ScheduledRepayment  LoanBalanceStart  LoanBalanceEnd  InterestPayment  \n",
      "0                 2399.54          52000.00        50033.79           433.33  \n",
      "1                 2399.54          50033.79        48051.20           416.95  \n",
      "2                 2399.54          48051.20        46052.09           400.43  \n",
      "3                 2399.54          46052.09        44036.32           383.77  \n",
      "4                 2399.54          44036.32        42003.74           366.97  \n",
      "...                   ...               ...             ...              ...  \n",
      "11995             2768.70          43716.52        41312.12           364.30  \n",
      "11996             2768.70          41312.12        38887.69           344.27  \n",
      "11997             2768.70          38887.69        36443.05           324.06  \n",
      "11998             2768.70          36443.05        33978.05           303.69  \n",
      "11999             2768.70          33978.05        31492.50           283.15  \n",
      "\n",
      "[12000 rows x 9 columns]\n"
     ]
    }
   ],
   "source": [
    "root = os.getcwd()\n",
    "df_scheduled = pd.read_csv(root + \"/data/scheduled_loan_repayments.csv\")\n",
    "df_actual = pd.read_csv(root + \"/data/actual_loan_repayments.csv\")\n",
    "df_balances = py.calculate_df_balances(df_scheduled, df_actual)"
   ]
  },
  {
   "cell_type": "code",
   "execution_count": null,
   "metadata": {},
   "outputs": [],
   "source": []
  }
 ],
 "metadata": {
  "kernelspec": {
   "display_name": "Python 3 (ipykernel)",
   "language": "python",
   "name": "python3"
  },
  "language_info": {
   "codemirror_mode": {
    "name": "ipython",
    "version": 3
   },
   "file_extension": ".py",
   "mimetype": "text/x-python",
   "name": "python",
   "nbconvert_exporter": "python",
   "pygments_lexer": "ipython3",
   "version": "3.10.18"
  }
 },
 "nbformat": 4,
 "nbformat_minor": 4
}
